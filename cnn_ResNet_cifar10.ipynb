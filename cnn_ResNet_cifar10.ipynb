{
 "cells": [
  {
   "cell_type": "markdown",
   "id": "62b61be0",
   "metadata": {
    "id": "62b61be0"
   },
   "source": [
    "# ResNet 학습(CIFAR-10 dataset)\n",
    "\n",
    "ResNet은 2015년에 나온 네트워크로 residual mapping을 사용하는 residual block 사용합니다.   \n",
    "네트워크 깊이가 깊지만 성능이 좋다고 하여 CIFAR-10 dataset을 이용하여 정확도를 알아볼 것입니다."
   ]
  },
  {
   "cell_type": "markdown",
   "id": "b0c7c3e2",
   "metadata": {
    "id": "b0c7c3e2"
   },
   "source": [
    "학습에 사용할 CIFAR-10 dataset을 가져옵니다.   \n",
    "dataset download url : https://www.cs.toronto.edu/~kriz/cifar.html"
   ]
  },
  {
   "cell_type": "code",
   "execution_count": null,
   "id": "cb0a1a71",
   "metadata": {
    "id": "cb0a1a71",
    "outputId": "67325ccf-e0f8-443a-eb87-afee484f201e"
   },
   "outputs": [
    {
     "name": "stdout",
     "output_type": "stream",
     "text": [
      "(50000, 32, 32, 3) (50000, 1) (10000, 32, 32, 3) (10000, 1)\n"
     ]
    }
   ],
   "source": [
    "import numpy as np\n",
    "\n",
    "# dataset dir\n",
    "cifar_dir = './cifar-10-batches-py/'\n",
    "cifar_file = ['data_batch_1', 'data_batch_2', 'data_batch_3', 'data_batch_4', 'data_batch_5', 'test_batch']\n",
    "\n",
    "# data 가져오기\n",
    "def unpickle(file):\n",
    "    import pickle\n",
    "    with open(file, 'rb') as fo:\n",
    "        dict = pickle.load(fo, encoding='bytes')\n",
    "    return dict\n",
    "dataset = [unpickle(cifar_dir + file) for file in cifar_file]\n",
    "\n",
    "# data 분리\n",
    "X_train_tmp = []\n",
    "y_train = []\n",
    "for ndata in dataset[:-1]:\n",
    "    X_train_tmp.extend(ndata[b'data'].tolist())\n",
    "    y_train.extend(ndata[b'labels'])\n",
    "X_test_tmp = dataset[-1][b'data']\n",
    "y_test = dataset[-1][b'labels']\n",
    "\n",
    "# image data 전처리\n",
    "pixel = 1024\n",
    "X_train = []\n",
    "for i in range(len(X_train_tmp)):\n",
    "    tmp = [X_train_tmp[i][:pixel], X_train_tmp[i][pixel:2*pixel], X_train_tmp[i][2*pixel:]]\n",
    "    tmp = np.array(tmp)\n",
    "    tmp = tmp.T.tolist()\n",
    "    trans = []\n",
    "    for j in range(0, len(tmp), 32):\n",
    "        trans.append(tmp[j:j+32])\n",
    "    X_train.append(trans)\n",
    "X_train = np.array(X_train)\n",
    "X_test = []\n",
    "for i in range(len(X_test_tmp)):\n",
    "    tmp = [X_test_tmp[i][:pixel], X_test_tmp[i][pixel:2*pixel], X_test_tmp[i][2*pixel:]]\n",
    "    tmp = np.array(tmp)\n",
    "    tmp = tmp.T.tolist()\n",
    "    trans = []\n",
    "    for j in range(0, len(tmp), 32):\n",
    "        trans.append(tmp[j:j+32])\n",
    "    X_test.append(trans)\n",
    "X_test = np.array(X_test)\n",
    "\n",
    "X_train = X_train/255.0\n",
    "X_test = X_test/255.0\n",
    "\n",
    "# label data 전처리\n",
    "y_train = [[_] for _ in y_train]\n",
    "y_train = np.array(y_train)\n",
    "\n",
    "y_test = [[_] for _ in y_test]\n",
    "y_test = np.array(y_test)\n",
    "\n",
    "print(X_train.shape, y_train.shape, X_test.shape, y_test.shape)"
   ]
  },
  {
   "cell_type": "markdown",
   "id": "4cbd53a4",
   "metadata": {
    "id": "4cbd53a4"
   },
   "source": [
    "ResNet의 residual block을 간단하게 나타내면 input에 대해,   \n",
    "\n",
    "    [input] -> (Conv) -> [c1]   \n",
    "    [c1] -> (Conv) -> [c2]   \n",
    "    [input] + [c2] -> [output]   \n",
    "    \n",
    "이러한 구조를 가집니다.\n",
    "\n",
    "CIFAR-10은 32x32의 이미지 크기를 가지는데 반해 모델이 너무 크기 때문에 줄여서 구현 및 학습을 진행합니다."
   ]
  },
  {
   "cell_type": "code",
   "execution_count": 4,
   "id": "861d54fd",
   "metadata": {
    "colab": {
     "base_uri": "https://localhost:8080/"
    },
    "executionInfo": {
     "elapsed": 354,
     "status": "ok",
     "timestamp": 1642162562007,
     "user": {
      "displayName": "남기범",
      "photoUrl": "https://lh3.googleusercontent.com/a/default-user=s64",
      "userId": "01911400431597569441"
     },
     "user_tz": -540
    },
    "id": "861d54fd",
    "outputId": "319f22d7-9f64-4ff8-d411-8ddb0cba26b6",
    "scrolled": true
   },
   "outputs": [
    {
     "name": "stdout",
     "output_type": "stream",
     "text": [
      "Model: \"model_1\"\n",
      "__________________________________________________________________________________________________\n",
      " Layer (type)                   Output Shape         Param #     Connected to                     \n",
      "==================================================================================================\n",
      " input_2 (InputLayer)           [(None, 32, 32, 3)]  0           []                               \n",
      "                                                                                                  \n",
      " conv2d_13 (Conv2D)             (None, 32, 32, 64)   1792        ['input_2[0][0]']                \n",
      "                                                                                                  \n",
      " conv2d_14 (Conv2D)             (None, 32, 32, 64)   36928       ['conv2d_13[0][0]']              \n",
      "                                                                                                  \n",
      " conv2d_15 (Conv2D)             (None, 32, 32, 64)   36928       ['conv2d_14[0][0]']              \n",
      "                                                                                                  \n",
      " add_5 (Add)                    (None, 32, 32, 64)   0           ['conv2d_13[0][0]',              \n",
      "                                                                  'conv2d_15[0][0]']              \n",
      "                                                                                                  \n",
      " conv2d_16 (Conv2D)             (None, 32, 32, 64)   36928       ['add_5[0][0]']                  \n",
      "                                                                                                  \n",
      " conv2d_17 (Conv2D)             (None, 32, 32, 64)   36928       ['conv2d_16[0][0]']              \n",
      "                                                                                                  \n",
      " add_6 (Add)                    (None, 32, 32, 64)   0           ['add_5[0][0]',                  \n",
      "                                                                  'conv2d_17[0][0]']              \n",
      "                                                                                                  \n",
      " conv2d_18 (Conv2D)             (None, 32, 32, 64)   36928       ['add_6[0][0]']                  \n",
      "                                                                                                  \n",
      " conv2d_19 (Conv2D)             (None, 32, 32, 64)   36928       ['conv2d_18[0][0]']              \n",
      "                                                                                                  \n",
      " add_7 (Add)                    (None, 32, 32, 64)   0           ['add_6[0][0]',                  \n",
      "                                                                  'conv2d_19[0][0]']              \n",
      "                                                                                                  \n",
      " conv2d_20 (Conv2D)             (None, 32, 32, 128)  73856       ['add_7[0][0]']                  \n",
      "                                                                                                  \n",
      " conv2d_21 (Conv2D)             (None, 32, 32, 128)  147584      ['conv2d_20[0][0]']              \n",
      "                                                                                                  \n",
      " conv2d_22 (Conv2D)             (None, 32, 32, 128)  147584      ['conv2d_21[0][0]']              \n",
      "                                                                                                  \n",
      " conv2d_23 (Conv2D)             (None, 32, 32, 128)  147584      ['conv2d_22[0][0]']              \n",
      "                                                                                                  \n",
      " add_8 (Add)                    (None, 32, 32, 128)  0           ['conv2d_21[0][0]',              \n",
      "                                                                  'conv2d_23[0][0]']              \n",
      "                                                                                                  \n",
      " conv2d_24 (Conv2D)             (None, 32, 32, 128)  147584      ['add_8[0][0]']                  \n",
      "                                                                                                  \n",
      " conv2d_25 (Conv2D)             (None, 32, 32, 128)  147584      ['conv2d_24[0][0]']              \n",
      "                                                                                                  \n",
      " add_9 (Add)                    (None, 32, 32, 128)  0           ['add_8[0][0]',                  \n",
      "                                                                  'conv2d_25[0][0]']              \n",
      "                                                                                                  \n",
      " max_pooling2d_1 (MaxPooling2D)  (None, 16, 16, 128)  0          ['add_9[0][0]']                  \n",
      "                                                                                                  \n",
      " flatten_1 (Flatten)            (None, 32768)        0           ['max_pooling2d_1[0][0]']        \n",
      "                                                                                                  \n",
      " dense_3 (Dense)                (None, 128)          4194432     ['flatten_1[0][0]']              \n",
      "                                                                                                  \n",
      " dense_4 (Dense)                (None, 64)           8256        ['dense_3[0][0]']                \n",
      "                                                                                                  \n",
      " dense_5 (Dense)                (None, 10)           650         ['dense_4[0][0]']                \n",
      "                                                                                                  \n",
      "==================================================================================================\n",
      "Total params: 5,238,474\n",
      "Trainable params: 5,238,474\n",
      "Non-trainable params: 0\n",
      "__________________________________________________________________________________________________\n"
     ]
    }
   ],
   "source": [
    "from keras import models, layers\n",
    "\n",
    "# 입력층\n",
    "input_layer = layers.Input(shape=(32, 32, 3))\n",
    "res = layers.Conv2D(64, (3, 3), padding='same', activation='relu')(input_layer)\n",
    "\n",
    "# 합성곱층\n",
    "conv1 = layers.Conv2D(64, (3, 3), padding='same', activation='relu')(res)\n",
    "conv2 = layers.Conv2D(64, (3, 3), padding='same', activation='relu')(conv1)\n",
    "res = layers.Add()([res, conv2])\n",
    "\n",
    "conv3 = layers.Conv2D(64, (3, 3), padding='same', activation='relu')(res)\n",
    "conv4 = layers.Conv2D(64, (3, 3), padding='same', activation='relu')(conv3)\n",
    "res = layers.Add()([res, conv4])\n",
    "\n",
    "conv5 = layers.Conv2D(64, (3, 3), padding='same', activation='relu')(res)\n",
    "conv6 = layers.Conv2D(64, (3, 3), padding='same', activation='relu')(conv5)\n",
    "res = layers.Add()([res, conv6])\n",
    "\n",
    "conv7 = layers.Conv2D(128, (3, 3), padding='same', activation='relu')(res)\n",
    "conv8 = layers.Conv2D(128, (3, 3), padding='same', activation='relu')(conv7)\n",
    "\n",
    "conv9 = layers.Conv2D(128, (3, 3), padding='same', activation='relu')(conv8)\n",
    "conv10 = layers.Conv2D(128, (3, 3), padding='same', activation='relu')(conv9)\n",
    "res = layers.Add()([conv8, conv10])\n",
    "\n",
    "conv11 = layers.Conv2D(128, (3, 3), padding='same', activation='relu')(res)\n",
    "conv12 = layers.Conv2D(128, (3, 3), padding='same', activation='relu')(conv11)\n",
    "res = layers.Add()([res, conv12])\n",
    "\n",
    "maxpool1 = layers.MaxPooling2D(2)(res)\n",
    "ft1 = layers.Flatten()(maxpool1)\n",
    "dense1 = layers.Dense(128, activation='relu')(ft1)\n",
    "dense2 = layers.Dense(64, activation='relu')(dense1)\n",
    "dense3 = layers.Dense(10, activation='softmax')(dense2)\n",
    "output_layer = dense3\n",
    "\n",
    "\n",
    "model = models.Model(input_layer, output_layer)\n",
    "model.summary()"
   ]
  },
  {
   "cell_type": "code",
   "execution_count": 5,
   "id": "28a1ae45",
   "metadata": {
    "colab": {
     "base_uri": "https://localhost:8080/"
    },
    "executionInfo": {
     "elapsed": 1344101,
     "status": "ok",
     "timestamp": 1642163922121,
     "user": {
      "displayName": "남기범",
      "photoUrl": "https://lh3.googleusercontent.com/a/default-user=s64",
      "userId": "01911400431597569441"
     },
     "user_tz": -540
    },
    "id": "28a1ae45",
    "outputId": "385e8faa-aa5d-4c63-8c14-fc158cca2d65",
    "scrolled": true
   },
   "outputs": [
    {
     "name": "stdout",
     "output_type": "stream",
     "text": [
      "Epoch 1/10\n",
      "1563/1563 [==============================] - 135s 86ms/step - loss: 3.0046 - accuracy: 0.2762\n",
      "Epoch 2/10\n",
      "1563/1563 [==============================] - 134s 86ms/step - loss: 1.3821 - accuracy: 0.5028\n",
      "Epoch 3/10\n",
      "1563/1563 [==============================] - 134s 86ms/step - loss: 1.1045 - accuracy: 0.6091\n",
      "Epoch 4/10\n",
      "1563/1563 [==============================] - 134s 86ms/step - loss: 0.9485 - accuracy: 0.6657\n",
      "Epoch 5/10\n",
      "1563/1563 [==============================] - 134s 85ms/step - loss: 0.8257 - accuracy: 0.7099\n",
      "Epoch 6/10\n",
      "1563/1563 [==============================] - 134s 85ms/step - loss: 0.6934 - accuracy: 0.7555\n",
      "Epoch 7/10\n",
      "1563/1563 [==============================] - 134s 85ms/step - loss: 0.5681 - accuracy: 0.8006\n",
      "Epoch 8/10\n",
      "1563/1563 [==============================] - 133s 85ms/step - loss: 0.4485 - accuracy: 0.8427\n",
      "Epoch 9/10\n",
      "1563/1563 [==============================] - 134s 85ms/step - loss: 0.3518 - accuracy: 0.8770\n",
      "Epoch 10/10\n",
      "1563/1563 [==============================] - 134s 85ms/step - loss: 0.2921 - accuracy: 0.8996\n"
     ]
    },
    {
     "name": "stderr",
     "output_type": "stream",
     "text": [
      "/usr/local/lib/python3.7/dist-packages/keras/engine/functional.py:1410: CustomMaskWarning: Custom mask layers require a config and must override get_config. When loading, the custom mask layer must be passed to the custom_objects argument.\n",
      "  layer_config = serialize_layer_fn(layer)\n"
     ]
    }
   ],
   "source": [
    "model.compile(optimizer='adam', loss='sparse_categorical_crossentropy', metrics=['accuracy'])\n",
    "\n",
    "hist = model.fit(X_train, y_train, epochs=10)\n",
    "model.save('./model/ResNet_cifar10_model.h5')"
   ]
  },
  {
   "cell_type": "code",
   "execution_count": 6,
   "id": "545fca2f",
   "metadata": {
    "colab": {
     "base_uri": "https://localhost:8080/"
    },
    "executionInfo": {
     "elapsed": 10677,
     "status": "ok",
     "timestamp": 1642163932786,
     "user": {
      "displayName": "남기범",
      "photoUrl": "https://lh3.googleusercontent.com/a/default-user=s64",
      "userId": "01911400431597569441"
     },
     "user_tz": -540
    },
    "id": "545fca2f",
    "outputId": "cd33080a-0e5f-4ab0-e83d-75e36b53510f"
   },
   "outputs": [
    {
     "name": "stdout",
     "output_type": "stream",
     "text": [
      "313/313 [==============================] - 8s 25ms/step - loss: 1.4769 - accuracy: 0.6388\n"
     ]
    },
    {
     "data": {
      "text/plain": [
       "[1.4768956899642944, 0.6388000249862671]"
      ]
     },
     "execution_count": 6,
     "metadata": {},
     "output_type": "execute_result"
    }
   ],
   "source": [
    "model.evaluate(X_test, y_test)"
   ]
  },
  {
   "cell_type": "markdown",
   "id": "b68d8510",
   "metadata": {},
   "source": [
    "# Pooling layer 추가\n",
    "\n",
    "이번에는 pooling layer를 하나 더 추가를 해 파라미터 수를 줄여 학습을 진행해보겠습니다."
   ]
  },
  {
   "cell_type": "code",
   "execution_count": 10,
   "id": "YwQP5EKXmdec",
   "metadata": {
    "colab": {
     "base_uri": "https://localhost:8080/"
    },
    "executionInfo": {
     "elapsed": 385,
     "status": "ok",
     "timestamp": 1642164232533,
     "user": {
      "displayName": "남기범",
      "photoUrl": "https://lh3.googleusercontent.com/a/default-user=s64",
      "userId": "01911400431597569441"
     },
     "user_tz": -540
    },
    "id": "YwQP5EKXmdec",
    "outputId": "af8d0337-acd9-4e2d-a26d-17ee4808821e",
    "scrolled": true
   },
   "outputs": [
    {
     "name": "stdout",
     "output_type": "stream",
     "text": [
      "Model: \"model_2\"\n",
      "__________________________________________________________________________________________________\n",
      " Layer (type)                   Output Shape         Param #     Connected to                     \n",
      "==================================================================================================\n",
      " input_6 (InputLayer)           [(None, 32, 32, 3)]  0           []                               \n",
      "                                                                                                  \n",
      " conv2d_61 (Conv2D)             (None, 32, 32, 64)   1792        ['input_6[0][0]']                \n",
      "                                                                                                  \n",
      " conv2d_62 (Conv2D)             (None, 32, 32, 64)   36928       ['conv2d_61[0][0]']              \n",
      "                                                                                                  \n",
      " conv2d_63 (Conv2D)             (None, 32, 32, 64)   36928       ['conv2d_62[0][0]']              \n",
      "                                                                                                  \n",
      " add_23 (Add)                   (None, 32, 32, 64)   0           ['conv2d_61[0][0]',              \n",
      "                                                                  'conv2d_63[0][0]']              \n",
      "                                                                                                  \n",
      " conv2d_64 (Conv2D)             (None, 32, 32, 64)   36928       ['add_23[0][0]']                 \n",
      "                                                                                                  \n",
      " conv2d_65 (Conv2D)             (None, 32, 32, 64)   36928       ['conv2d_64[0][0]']              \n",
      "                                                                                                  \n",
      " add_24 (Add)                   (None, 32, 32, 64)   0           ['add_23[0][0]',                 \n",
      "                                                                  'conv2d_65[0][0]']              \n",
      "                                                                                                  \n",
      " conv2d_66 (Conv2D)             (None, 32, 32, 64)   36928       ['add_24[0][0]']                 \n",
      "                                                                                                  \n",
      " conv2d_67 (Conv2D)             (None, 32, 32, 64)   36928       ['conv2d_66[0][0]']              \n",
      "                                                                                                  \n",
      " add_25 (Add)                   (None, 32, 32, 64)   0           ['add_24[0][0]',                 \n",
      "                                                                  'conv2d_67[0][0]']              \n",
      "                                                                                                  \n",
      " conv2d_68 (Conv2D)             (None, 32, 32, 128)  73856       ['add_25[0][0]']                 \n",
      "                                                                                                  \n",
      " conv2d_69 (Conv2D)             (None, 32, 32, 128)  147584      ['conv2d_68[0][0]']              \n",
      "                                                                                                  \n",
      " conv2d_70 (Conv2D)             (None, 32, 32, 128)  147584      ['conv2d_69[0][0]']              \n",
      "                                                                                                  \n",
      " conv2d_71 (Conv2D)             (None, 32, 32, 128)  147584      ['conv2d_70[0][0]']              \n",
      "                                                                                                  \n",
      " add_26 (Add)                   (None, 32, 32, 128)  0           ['conv2d_69[0][0]',              \n",
      "                                                                  'conv2d_71[0][0]']              \n",
      "                                                                                                  \n",
      " max_pooling2d_4 (MaxPooling2D)  (None, 16, 16, 128)  0          ['add_26[0][0]']                 \n",
      "                                                                                                  \n",
      " conv2d_72 (Conv2D)             (None, 16, 16, 128)  147584      ['max_pooling2d_4[0][0]']        \n",
      "                                                                                                  \n",
      " conv2d_73 (Conv2D)             (None, 16, 16, 128)  147584      ['conv2d_72[0][0]']              \n",
      "                                                                                                  \n",
      " add_27 (Add)                   (None, 16, 16, 128)  0           ['max_pooling2d_4[0][0]',        \n",
      "                                                                  'conv2d_73[0][0]']              \n",
      "                                                                                                  \n",
      " max_pooling2d_5 (MaxPooling2D)  (None, 8, 8, 128)   0           ['add_27[0][0]']                 \n",
      "                                                                                                  \n",
      " flatten_2 (Flatten)            (None, 8192)         0           ['max_pooling2d_5[0][0]']        \n",
      "                                                                                                  \n",
      " dense_6 (Dense)                (None, 128)          1048704     ['flatten_2[0][0]']              \n",
      "                                                                                                  \n",
      " dense_7 (Dense)                (None, 64)           8256        ['dense_6[0][0]']                \n",
      "                                                                                                  \n",
      " dense_8 (Dense)                (None, 10)           650         ['dense_7[0][0]']                \n",
      "                                                                                                  \n",
      "==================================================================================================\n",
      "Total params: 2,092,746\n",
      "Trainable params: 2,092,746\n",
      "Non-trainable params: 0\n",
      "__________________________________________________________________________________________________\n"
     ]
    }
   ],
   "source": [
    "from keras import models, layers\n",
    "\n",
    "# 입력층\n",
    "input_layer = layers.Input(shape=(32, 32, 3))\n",
    "res = layers.Conv2D(64, (3, 3), padding='same', activation='relu')(input_layer)\n",
    "\n",
    "# 합성곱층\n",
    "conv1 = layers.Conv2D(64, (3, 3), padding='same', activation='relu')(res)\n",
    "conv2 = layers.Conv2D(64, (3, 3), padding='same', activation='relu')(conv1)\n",
    "res = layers.Add()([res, conv2])\n",
    "\n",
    "conv3 = layers.Conv2D(64, (3, 3), padding='same', activation='relu')(res)\n",
    "conv4 = layers.Conv2D(64, (3, 3), padding='same', activation='relu')(conv3)\n",
    "res = layers.Add()([res, conv4])\n",
    "\n",
    "conv5 = layers.Conv2D(64, (3, 3), padding='same', activation='relu')(res)\n",
    "conv6 = layers.Conv2D(64, (3, 3), padding='same', activation='relu')(conv5)\n",
    "res = layers.Add()([res, conv6])\n",
    "\n",
    "conv7 = layers.Conv2D(128, (3, 3), padding='same', activation='relu')(res)\n",
    "conv8 = layers.Conv2D(128, (3, 3), padding='same', activation='relu')(conv7)\n",
    "\n",
    "conv9 = layers.Conv2D(128, (3, 3), padding='same', activation='relu')(conv8)\n",
    "conv10 = layers.Conv2D(128, (3, 3), padding='same', activation='relu')(conv9)\n",
    "res = layers.Add()([conv8, conv10])\n",
    "maxpool1 = layers.MaxPooling2D(2)(res)\n",
    "\n",
    "conv11 = layers.Conv2D(128, (3, 3), padding='same', activation='relu')(maxpool1)\n",
    "conv12 = layers.Conv2D(128, (3, 3), padding='same', activation='relu')(conv11)\n",
    "res = layers.Add()([maxpool1, conv12])\n",
    "\n",
    "maxpool2 = layers.MaxPooling2D(2)(res)\n",
    "ft1 = layers.Flatten()(maxpool2)\n",
    "dense1 = layers.Dense(128, activation='relu')(ft1)\n",
    "dense2 = layers.Dense(64, activation='relu')(dense1)\n",
    "dense3 = layers.Dense(10, activation='softmax')(dense2)\n",
    "output_layer = dense3\n",
    "\n",
    "\n",
    "model = models.Model(input_layer, output_layer)\n",
    "model.summary()"
   ]
  },
  {
   "cell_type": "markdown",
   "id": "1abb92ed",
   "metadata": {},
   "source": [
    "layer 하나만 추가했는데 520만 -> 200만 정도로 파라미터가 줄은 것을 볼 수 있습니다."
   ]
  },
  {
   "cell_type": "code",
   "execution_count": 11,
   "id": "tJOj9cdMm_yC",
   "metadata": {
    "colab": {
     "base_uri": "https://localhost:8080/"
    },
    "executionInfo": {
     "elapsed": 1127300,
     "status": "ok",
     "timestamp": 1642165423555,
     "user": {
      "displayName": "남기범",
      "photoUrl": "https://lh3.googleusercontent.com/a/default-user=s64",
      "userId": "01911400431597569441"
     },
     "user_tz": -540
    },
    "id": "tJOj9cdMm_yC",
    "outputId": "df5b9635-0df2-426e-8657-9416bf2bf3bf",
    "scrolled": true
   },
   "outputs": [
    {
     "name": "stdout",
     "output_type": "stream",
     "text": [
      "Epoch 1/10\n",
      "1563/1563 [==============================] - 114s 72ms/step - loss: 1.9481 - accuracy: 0.4519\n",
      "Epoch 2/10\n",
      "1563/1563 [==============================] - 112s 72ms/step - loss: 1.0345 - accuracy: 0.6381\n",
      "Epoch 3/10\n",
      "1563/1563 [==============================] - 113s 72ms/step - loss: 0.8814 - accuracy: 0.6929\n",
      "Epoch 4/10\n",
      "1563/1563 [==============================] - 112s 72ms/step - loss: 0.7717 - accuracy: 0.7300\n",
      "Epoch 5/10\n",
      "1563/1563 [==============================] - 112s 72ms/step - loss: 0.6842 - accuracy: 0.7632\n",
      "Epoch 6/10\n",
      "1563/1563 [==============================] - 112s 72ms/step - loss: 0.6031 - accuracy: 0.7872\n",
      "Epoch 7/10\n",
      "1563/1563 [==============================] - 112s 72ms/step - loss: 0.5239 - accuracy: 0.8177\n",
      "Epoch 8/10\n",
      "1563/1563 [==============================] - 113s 72ms/step - loss: 0.4529 - accuracy: 0.8411\n",
      "Epoch 9/10\n",
      "1563/1563 [==============================] - 113s 72ms/step - loss: 0.3894 - accuracy: 0.8620\n",
      "Epoch 10/10\n",
      "1563/1563 [==============================] - 113s 72ms/step - loss: 0.3382 - accuracy: 0.8831\n"
     ]
    },
    {
     "name": "stderr",
     "output_type": "stream",
     "text": [
      "/usr/local/lib/python3.7/dist-packages/keras/engine/functional.py:1410: CustomMaskWarning: Custom mask layers require a config and must override get_config. When loading, the custom mask layer must be passed to the custom_objects argument.\n",
      "  layer_config = serialize_layer_fn(layer)\n"
     ]
    }
   ],
   "source": [
    "model.compile(optimizer='adam', loss='sparse_categorical_crossentropy', metrics=['accuracy'])\n",
    "\n",
    "hist = model.fit(X_train, y_train, epochs=10)\n",
    "model.save('./model/ResNet_pool_cifar10_model.h5')"
   ]
  },
  {
   "cell_type": "code",
   "execution_count": 12,
   "id": "JIQyWitDns7f",
   "metadata": {
    "colab": {
     "base_uri": "https://localhost:8080/"
    },
    "executionInfo": {
     "elapsed": 7304,
     "status": "ok",
     "timestamp": 1642165431604,
     "user": {
      "displayName": "남기범",
      "photoUrl": "https://lh3.googleusercontent.com/a/default-user=s64",
      "userId": "01911400431597569441"
     },
     "user_tz": -540
    },
    "id": "JIQyWitDns7f",
    "outputId": "4f6f4487-c9e8-414a-9fbc-3bf1ae9ab2a7"
   },
   "outputs": [
    {
     "name": "stdout",
     "output_type": "stream",
     "text": [
      "313/313 [==============================] - 7s 21ms/step - loss: 0.9882 - accuracy: 0.7307\n"
     ]
    },
    {
     "data": {
      "text/plain": [
       "[0.9882370233535767, 0.7307000160217285]"
      ]
     },
     "execution_count": 12,
     "metadata": {},
     "output_type": "execute_result"
    }
   ],
   "source": [
    "model.evaluate(X_test, y_test)"
   ]
  },
  {
   "cell_type": "markdown",
   "id": "lVzq9KoRsLkz",
   "metadata": {
    "id": "lVzq9KoRsLkz"
   },
   "source": [
    "# Bottlenect 구조\n",
    "\n",
    "bottleneck 구조를 이용해보겠습니다. bottleneck 구조는 resnet 중에 50 layer이상 가지는 네트워크에 사용되는 구조입니다. 저는 단순히 적용만 해서 결과가 어떻게 나오는지 보겠습니다. 다만 ResNet50이상에서의 bottleneck 구조가 64->64->128 처럼 마지막 conv layer의 filter수가 2배가 되지만 저는 그대로 유지하도록 구성하였습니다. bottlenect 구조의 사용은 파라미터 수를 줄이고 연산을 줄이는 방법입니다."
   ]
  },
  {
   "cell_type": "code",
   "execution_count": 13,
   "id": "IMPScP50sOOZ",
   "metadata": {
    "colab": {
     "base_uri": "https://localhost:8080/"
    },
    "executionInfo": {
     "elapsed": 664,
     "status": "ok",
     "timestamp": 1642166177559,
     "user": {
      "displayName": "남기범",
      "photoUrl": "https://lh3.googleusercontent.com/a/default-user=s64",
      "userId": "01911400431597569441"
     },
     "user_tz": -540
    },
    "id": "IMPScP50sOOZ",
    "outputId": "2a4cc4f1-9801-4723-9045-d8d17a14e1eb",
    "scrolled": true
   },
   "outputs": [
    {
     "name": "stdout",
     "output_type": "stream",
     "text": [
      "Model: \"model_3\"\n",
      "__________________________________________________________________________________________________\n",
      " Layer (type)                   Output Shape         Param #     Connected to                     \n",
      "==================================================================================================\n",
      " input_7 (InputLayer)           [(None, 32, 32, 3)]  0           []                               \n",
      "                                                                                                  \n",
      " conv2d_74 (Conv2D)             (None, 32, 32, 64)   1792        ['input_7[0][0]']                \n",
      "                                                                                                  \n",
      " conv2d_75 (Conv2D)             (None, 32, 32, 64)   4160        ['conv2d_74[0][0]']              \n",
      "                                                                                                  \n",
      " conv2d_76 (Conv2D)             (None, 32, 32, 64)   36928       ['conv2d_75[0][0]']              \n",
      "                                                                                                  \n",
      " conv2d_77 (Conv2D)             (None, 32, 32, 64)   4160        ['conv2d_76[0][0]']              \n",
      "                                                                                                  \n",
      " add_28 (Add)                   (None, 32, 32, 64)   0           ['conv2d_74[0][0]',              \n",
      "                                                                  'conv2d_77[0][0]']              \n",
      "                                                                                                  \n",
      " conv2d_78 (Conv2D)             (None, 32, 32, 64)   4160        ['add_28[0][0]']                 \n",
      "                                                                                                  \n",
      " conv2d_79 (Conv2D)             (None, 32, 32, 64)   36928       ['conv2d_78[0][0]']              \n",
      "                                                                                                  \n",
      " conv2d_80 (Conv2D)             (None, 32, 32, 64)   4160        ['conv2d_79[0][0]']              \n",
      "                                                                                                  \n",
      " add_29 (Add)                   (None, 32, 32, 64)   0           ['add_28[0][0]',                 \n",
      "                                                                  'conv2d_80[0][0]']              \n",
      "                                                                                                  \n",
      " conv2d_81 (Conv2D)             (None, 32, 32, 64)   4160        ['add_29[0][0]']                 \n",
      "                                                                                                  \n",
      " conv2d_82 (Conv2D)             (None, 32, 32, 64)   36928       ['conv2d_81[0][0]']              \n",
      "                                                                                                  \n",
      " conv2d_83 (Conv2D)             (None, 32, 32, 64)   4160        ['conv2d_82[0][0]']              \n",
      "                                                                                                  \n",
      " add_30 (Add)                   (None, 32, 32, 64)   0           ['add_29[0][0]',                 \n",
      "                                                                  'conv2d_83[0][0]']              \n",
      "                                                                                                  \n",
      " conv2d_84 (Conv2D)             (None, 32, 32, 128)  8320        ['add_30[0][0]']                 \n",
      "                                                                                                  \n",
      " conv2d_85 (Conv2D)             (None, 32, 32, 128)  147584      ['conv2d_84[0][0]']              \n",
      "                                                                                                  \n",
      " conv2d_86 (Conv2D)             (None, 32, 32, 128)  16512       ['conv2d_85[0][0]']              \n",
      "                                                                                                  \n",
      " conv2d_87 (Conv2D)             (None, 32, 32, 128)  16512       ['conv2d_86[0][0]']              \n",
      "                                                                                                  \n",
      " conv2d_88 (Conv2D)             (None, 32, 32, 128)  147584      ['conv2d_87[0][0]']              \n",
      "                                                                                                  \n",
      " conv2d_89 (Conv2D)             (None, 32, 32, 128)  16512       ['conv2d_88[0][0]']              \n",
      "                                                                                                  \n",
      " add_31 (Add)                   (None, 32, 32, 128)  0           ['conv2d_86[0][0]',              \n",
      "                                                                  'conv2d_89[0][0]']              \n",
      "                                                                                                  \n",
      " max_pooling2d_6 (MaxPooling2D)  (None, 16, 16, 128)  0          ['add_31[0][0]']                 \n",
      "                                                                                                  \n",
      " conv2d_90 (Conv2D)             (None, 16, 16, 128)  16512       ['max_pooling2d_6[0][0]']        \n",
      "                                                                                                  \n",
      " conv2d_91 (Conv2D)             (None, 16, 16, 128)  147584      ['conv2d_90[0][0]']              \n",
      "                                                                                                  \n",
      " conv2d_92 (Conv2D)             (None, 16, 16, 128)  16512       ['conv2d_91[0][0]']              \n",
      "                                                                                                  \n",
      " add_32 (Add)                   (None, 16, 16, 128)  0           ['max_pooling2d_6[0][0]',        \n",
      "                                                                  'conv2d_92[0][0]']              \n",
      "                                                                                                  \n",
      " max_pooling2d_7 (MaxPooling2D)  (None, 8, 8, 128)   0           ['add_32[0][0]']                 \n",
      "                                                                                                  \n",
      " flatten_3 (Flatten)            (None, 8192)         0           ['max_pooling2d_7[0][0]']        \n",
      "                                                                                                  \n",
      " dense_9 (Dense)                (None, 128)          1048704     ['flatten_3[0][0]']              \n",
      "                                                                                                  \n",
      " dense_10 (Dense)               (None, 64)           8256        ['dense_9[0][0]']                \n",
      "                                                                                                  \n",
      " dense_11 (Dense)               (None, 10)           650         ['dense_10[0][0]']               \n",
      "                                                                                                  \n",
      "==================================================================================================\n",
      "Total params: 1,728,778\n",
      "Trainable params: 1,728,778\n",
      "Non-trainable params: 0\n",
      "__________________________________________________________________________________________________\n"
     ]
    }
   ],
   "source": [
    "from keras import models, layers\n",
    "\n",
    "# 입력층\n",
    "input_layer = layers.Input(shape=(32, 32, 3))\n",
    "res = layers.Conv2D(64, (3, 3), padding='same', activation='relu')(input_layer)\n",
    "\n",
    "# 합성곱층\n",
    "conv1 = layers.Conv2D(64, (1, 1), padding='same', activation='relu')(res)\n",
    "conv2 = layers.Conv2D(64, (3, 3), padding='same', activation='relu')(conv1)\n",
    "conv3 = layers.Conv2D(64, (1, 1), padding='same', activation='relu')(conv2)\n",
    "res = layers.Add()([res, conv3])\n",
    "\n",
    "conv4 = layers.Conv2D(64, (1, 1), padding='same', activation='relu')(res)\n",
    "conv5 = layers.Conv2D(64, (3, 3), padding='same', activation='relu')(conv4)\n",
    "conv6 = layers.Conv2D(64, (1, 1), padding='same', activation='relu')(conv5)\n",
    "res = layers.Add()([res, conv6])\n",
    "\n",
    "conv7 = layers.Conv2D(64, (1, 1), padding='same', activation='relu')(res)\n",
    "conv8 = layers.Conv2D(64, (3, 3), padding='same', activation='relu')(conv7)\n",
    "conv9 = layers.Conv2D(64, (1, 1), padding='same', activation='relu')(conv8)\n",
    "res = layers.Add()([res, conv9])\n",
    "\n",
    "conv10 = layers.Conv2D(128, (1, 1), padding='same', activation='relu')(res)\n",
    "conv11 = layers.Conv2D(128, (3, 3), padding='same', activation='relu')(conv10)\n",
    "conv12 = layers.Conv2D(128, (1, 1), padding='same', activation='relu')(conv11)\n",
    "\n",
    "conv13 = layers.Conv2D(128, (1, 1), padding='same', activation='relu')(conv12)\n",
    "conv14 = layers.Conv2D(128, (3, 3), padding='same', activation='relu')(conv13)\n",
    "conv15 = layers.Conv2D(128, (1, 1), padding='same', activation='relu')(conv14)\n",
    "res = layers.Add()([conv12, conv15])\n",
    "maxpool1 = layers.MaxPooling2D(2)(res)\n",
    "\n",
    "conv16 = layers.Conv2D(128, (1, 1), padding='same', activation='relu')(maxpool1)\n",
    "conv17 = layers.Conv2D(128, (3, 3), padding='same', activation='relu')(conv16)\n",
    "conv18 = layers.Conv2D(128, (1, 1), padding='same', activation='relu')(conv17)\n",
    "res = layers.Add()([maxpool1, conv18])\n",
    "\n",
    "maxpool2 = layers.MaxPooling2D(2)(res)\n",
    "ft1 = layers.Flatten()(maxpool2)\n",
    "dense1 = layers.Dense(128, activation='relu')(ft1)\n",
    "dense2 = layers.Dense(64, activation='relu')(dense1)\n",
    "dense3 = layers.Dense(10, activation='softmax')(dense2)\n",
    "output_layer = dense3\n",
    "\n",
    "\n",
    "model = models.Model(input_layer, output_layer)\n",
    "model.summary()"
   ]
  },
  {
   "cell_type": "markdown",
   "id": "f180f25b",
   "metadata": {},
   "source": [
    "bottlenect구조를 적용하니 파라미터 수는 약 30만이 줄었습니다."
   ]
  },
  {
   "cell_type": "code",
   "execution_count": 14,
   "id": "8wApesVNu9fJ",
   "metadata": {
    "colab": {
     "base_uri": "https://localhost:8080/"
    },
    "executionInfo": {
     "elapsed": 1164357,
     "status": "ok",
     "timestamp": 1642167392609,
     "user": {
      "displayName": "남기범",
      "photoUrl": "https://lh3.googleusercontent.com/a/default-user=s64",
      "userId": "01911400431597569441"
     },
     "user_tz": -540
    },
    "id": "8wApesVNu9fJ",
    "outputId": "2ff8f630-3311-4c5f-b59c-3930c4f06b38",
    "scrolled": true
   },
   "outputs": [
    {
     "name": "stdout",
     "output_type": "stream",
     "text": [
      "Epoch 1/10\n",
      "1563/1563 [==============================] - 117s 74ms/step - loss: 1.6521 - accuracy: 0.4957\n",
      "Epoch 2/10\n",
      "1563/1563 [==============================] - 115s 74ms/step - loss: 1.0046 - accuracy: 0.6496\n",
      "Epoch 3/10\n",
      "1563/1563 [==============================] - 115s 74ms/step - loss: 0.8736 - accuracy: 0.6960\n",
      "Epoch 4/10\n",
      "1563/1563 [==============================] - 115s 74ms/step - loss: 0.7734 - accuracy: 0.7283\n",
      "Epoch 5/10\n",
      "1563/1563 [==============================] - 115s 74ms/step - loss: 0.6959 - accuracy: 0.7556\n",
      "Epoch 6/10\n",
      "1563/1563 [==============================] - 115s 74ms/step - loss: 0.6182 - accuracy: 0.7853\n",
      "Epoch 7/10\n",
      "1563/1563 [==============================] - 115s 73ms/step - loss: 0.5372 - accuracy: 0.8104\n",
      "Epoch 8/10\n",
      "1563/1563 [==============================] - 115s 73ms/step - loss: 0.4751 - accuracy: 0.8317\n",
      "Epoch 9/10\n",
      "1563/1563 [==============================] - 115s 73ms/step - loss: 0.4050 - accuracy: 0.8558\n",
      "Epoch 10/10\n",
      "1563/1563 [==============================] - 115s 73ms/step - loss: 0.3638 - accuracy: 0.8722\n"
     ]
    },
    {
     "name": "stderr",
     "output_type": "stream",
     "text": [
      "/usr/local/lib/python3.7/dist-packages/keras/engine/functional.py:1410: CustomMaskWarning: Custom mask layers require a config and must override get_config. When loading, the custom mask layer must be passed to the custom_objects argument.\n",
      "  layer_config = serialize_layer_fn(layer)\n"
     ]
    }
   ],
   "source": [
    "model.compile(optimizer='adam', loss='sparse_categorical_crossentropy', metrics=['accuracy'])\n",
    "\n",
    "hist = model.fit(X_train, y_train, epochs=10)\n",
    "model.save('./model/ResNet_pool_bottle_cifar10_model.h5')"
   ]
  },
  {
   "cell_type": "code",
   "execution_count": 15,
   "id": "KkY5amydvDXs",
   "metadata": {
    "colab": {
     "base_uri": "https://localhost:8080/"
    },
    "executionInfo": {
     "elapsed": 7974,
     "status": "ok",
     "timestamp": 1642167401318,
     "user": {
      "displayName": "남기범",
      "photoUrl": "https://lh3.googleusercontent.com/a/default-user=s64",
      "userId": "01911400431597569441"
     },
     "user_tz": -540
    },
    "id": "KkY5amydvDXs",
    "outputId": "92f72bc3-7edd-4811-9bc8-90dc88a05f68"
   },
   "outputs": [
    {
     "name": "stdout",
     "output_type": "stream",
     "text": [
      "313/313 [==============================] - 8s 24ms/step - loss: 1.0771 - accuracy: 0.6965\n"
     ]
    },
    {
     "data": {
      "text/plain": [
       "[1.0771136283874512, 0.6965000033378601]"
      ]
     },
     "execution_count": 15,
     "metadata": {},
     "output_type": "execute_result"
    }
   ],
   "source": [
    "model.evaluate(X_test, y_test)"
   ]
  },
  {
   "cell_type": "markdown",
   "id": "cdf90149",
   "metadata": {},
   "source": [
    "# 결론\n",
    "\n",
    "간단하게 ResNet을 구현하여 CIFAR-10 dataset을 이용하여 학습을 진행해보았습니다.   \n",
    "기본 모델, pooling layer을 추가한 모델, bottlenect 구조를 가진 모델 이렇게 3가지의 모델을 학습해보았습니다.   \n",
    "각 모델의 정확도와 손실율을 보면,"
   ]
  },
  {
   "cell_type": "code",
   "execution_count": 3,
   "id": "fc0a5e46",
   "metadata": {},
   "outputs": [
    {
     "name": "stdout",
     "output_type": "stream",
     "text": [
      "313/313 [==============================] - 57s 182ms/step - loss: 1.4769 - accuracy: 0.6388\n",
      "313/313 [==============================] - 46s 145ms/step - loss: 0.9882 - accuracy: 0.7308\n",
      "313/313 [==============================] - 37s 118ms/step - loss: 1.0771 - accuracy: 0.6965\n",
      "per model accuracy :  0.6388000249862671 0.7307999730110168 0.6965000033378601\n",
      "per model loss :  1.476896047592163 0.9882370829582214 1.0771136283874512\n"
     ]
    }
   ],
   "source": [
    "import keras\n",
    "\n",
    "resbasic = keras.models.load_model('./model/ResNet_cifar10_model.h5')\n",
    "respool = keras.models.load_model('./model/ResNet_pool_cifar10_model.h5')\n",
    "resbottle = keras.models.load_model('./model/ResNet_pool_bottle_cifar10_model.h5')\n",
    "\n",
    "resbasic_loss, resbasic_acc = resbasic.evaluate(X_test, y_test)\n",
    "respool_loss, respool_acc = respool.evaluate(X_test, y_test)\n",
    "resbottle_loss, resbottle_acc = resbottle.evaluate(X_test, y_test)\n",
    "\n",
    "print('per model accuracy : ', resbasic_acc, respool_acc, resbottle_acc)\n",
    "print('per model loss : ', resbasic_loss, respool_loss, resbottle_loss)"
   ]
  },
  {
   "cell_type": "markdown",
   "id": "a246ec63",
   "metadata": {},
   "source": [
    "pooling layer를 하나만 추가했지만 기본 모델과 비교했을때 정확도가 10%정도 증가하였습니다. 손실율 또한 많이 줄었습니다.   \n",
    "bottlenect 구조는 pooling layer가 추가한 모델에 구성하였지만 정확도는 오히려 떨어진 것을 확인할 수 있습니다.\n",
    "\n",
    "ResNet이 깊은 모델이기 때문에 학습 시간이 오래 걸려 epoch를 10번으로 하였습니다. 그리고 학습에 이용한 dataset이 작은 이미지이기 때문에 모델을 기존 ResNet보다 얇게 구성하였습니다. 그러다보니 깊은 ResNet모델에서 사용하는 bottlenect같은 경우 적용을 하여도 오히려 정확도가 낮아지는 것을 확인하였습니다. bottlenect에 관해 정확히 알기 위해서는 이후에 깊은 모델을 구성하여 bottlenect 구조의 유무에 따른 결과를 다시 한번 확인해보도록 하겠습니다."
   ]
  }
 ],
 "metadata": {
  "accelerator": "GPU",
  "colab": {
   "collapsed_sections": [],
   "name": "cnn_ResNet_cifar10.ipynb",
   "provenance": []
  },
  "kernelspec": {
   "display_name": "Python 3 (ipykernel)",
   "language": "python",
   "name": "python3"
  },
  "language_info": {
   "codemirror_mode": {
    "name": "ipython",
    "version": 3
   },
   "file_extension": ".py",
   "mimetype": "text/x-python",
   "name": "python",
   "nbconvert_exporter": "python",
   "pygments_lexer": "ipython3",
   "version": "3.9.7"
  }
 },
 "nbformat": 4,
 "nbformat_minor": 5
}
